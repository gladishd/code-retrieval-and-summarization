{
 "cells": [
  {
   "cell_type": "code",
   "execution_count": 1,
   "metadata": {
    "pycharm": {
     "is_executing": false
    }
   },
   "outputs": [],
   "source": [
    "import tensorflow as tf\n",
    "import numpy as np\n",
    "(x_train, _), (x_test, _) = tf.keras.datasets.mnist.load_data()\n",
    "x_train = x_train.astype('float32') / 255.0\n",
    "x_test = x_test.astype('float32') / 255.0\n",
    "\n",
    "input_x_dim = x_train.shape[1]\n",
    "input_y_dim = x_train.shape[2]\n",
    "input_dim = input_x_dim * input_y_dim\n",
    "\n",
    "x_train = np.reshape(x_train, (len(x_train), input_dim))\n",
    "x_test = np.reshape(x_test, (len(x_test), input_dim))\n",
    "\n",
    "hidden_code_dim = 16"
   ]
  },
  {
   "cell_type": "code",
   "execution_count": 2,
   "metadata": {
    "pycharm": {
     "is_executing": false,
     "name": "#%%\n"
    }
   },
   "outputs": [],
   "source": [
    "from mlp_vae import MLPVariationalAutoEncoder"
   ]
  },
  {
   "cell_type": "code",
   "execution_count": 3,
   "metadata": {
    "pycharm": {
     "is_executing": false
    }
   },
   "outputs": [],
   "source": [
    "model = MLPVariationalAutoEncoder(input_dim, hidden_code_dim, [512, 128])\n",
    "model.compile(optimizer=tf.keras.optimizers.Adam(learning_rate=0.0001), loss='mean_squared_error')"
   ]
  },
  {
   "cell_type": "code",
   "execution_count": 4,
   "metadata": {
    "pycharm": {
     "is_executing": false
    }
   },
   "outputs": [
    {
     "name": "stdout",
     "output_type": "stream",
     "text": [
      "Train on 60000 samples, validate on 10000 samples\n",
      "Epoch 1/25\n",
      "60000/60000 [==============================] - 3s 50us/sample - loss: 0.2032 - val_loss: 0.1052\n",
      "Epoch 2/25\n",
      "60000/60000 [==============================] - 1s 23us/sample - loss: 0.0792 - val_loss: 0.0797\n",
      "Epoch 3/25\n",
      "60000/60000 [==============================] - 1s 21us/sample - loss: 0.0682 - val_loss: 0.0729\n",
      "Epoch 4/25\n",
      "60000/60000 [==============================] - 1s 22us/sample - loss: 0.0622 - val_loss: 0.0683\n",
      "Epoch 5/25\n",
      "60000/60000 [==============================] - 1s 22us/sample - loss: 0.0573 - val_loss: 0.0676\n",
      "Epoch 6/25\n",
      "60000/60000 [==============================] - 1s 22us/sample - loss: 0.0533 - val_loss: 0.0651\n",
      "Epoch 7/25\n",
      "60000/60000 [==============================] - 1s 22us/sample - loss: 0.0492 - val_loss: 0.0637\n",
      "Epoch 8/25\n",
      "60000/60000 [==============================] - 1s 22us/sample - loss: 0.0463 - val_loss: 0.0628\n",
      "Epoch 9/25\n",
      "60000/60000 [==============================] - 1s 22us/sample - loss: 0.0442 - val_loss: 0.0629\n",
      "Epoch 10/25\n",
      "60000/60000 [==============================] - 1s 22us/sample - loss: 0.0423 - val_loss: 0.0621\n",
      "Epoch 11/25\n",
      "60000/60000 [==============================] - 1s 22us/sample - loss: 0.0404 - val_loss: 0.0607\n",
      "Epoch 12/25\n",
      "60000/60000 [==============================] - 1s 22us/sample - loss: 0.0388 - val_loss: 0.0592\n",
      "Epoch 13/25\n",
      "60000/60000 [==============================] - 1s 22us/sample - loss: 0.0372 - val_loss: 0.0571\n",
      "Epoch 14/25\n",
      "60000/60000 [==============================] - 1s 22us/sample - loss: 0.0360 - val_loss: 0.0554\n",
      "Epoch 15/25\n",
      "60000/60000 [==============================] - 1s 22us/sample - loss: 0.0348 - val_loss: 0.0551\n",
      "Epoch 16/25\n",
      "60000/60000 [==============================] - 1s 22us/sample - loss: 0.0339 - val_loss: 0.0541\n",
      "Epoch 17/25\n",
      "60000/60000 [==============================] - 1s 22us/sample - loss: 0.0327 - val_loss: 0.0528\n",
      "Epoch 18/25\n",
      "60000/60000 [==============================] - 1s 23us/sample - loss: 0.0320 - val_loss: 0.0524\n",
      "Epoch 19/25\n",
      "60000/60000 [==============================] - 1s 24us/sample - loss: 0.0310 - val_loss: 0.0518\n",
      "Epoch 20/25\n",
      "60000/60000 [==============================] - 1s 22us/sample - loss: 0.0303 - val_loss: 0.0511\n",
      "Epoch 21/25\n",
      "60000/60000 [==============================] - 1s 23us/sample - loss: 0.0293 - val_loss: 0.0498\n",
      "Epoch 22/25\n",
      "60000/60000 [==============================] - 1s 23us/sample - loss: 0.0284 - val_loss: 0.0483\n",
      "Epoch 23/25\n",
      "60000/60000 [==============================] - 1s 22us/sample - loss: 0.0279 - val_loss: 0.0488\n",
      "Epoch 24/25\n",
      "60000/60000 [==============================] - 1s 23us/sample - loss: 0.0271 - val_loss: 0.0471\n",
      "Epoch 25/25\n",
      "60000/60000 [==============================] - 1s 22us/sample - loss: 0.0266 - val_loss: 0.0466\n"
     ]
    }
   ],
   "source": [
    "history = model.fit(x_train, x_train, batch_size=512, epochs=25, verbose=1, validation_data=(x_test, x_test), shuffle=True)"
   ]
  },
  {
   "cell_type": "code",
   "execution_count": 5,
   "metadata": {
    "pycharm": {
     "is_executing": false
    }
   },
   "outputs": [],
   "source": [
    "import matplotlib.pyplot as plt\n",
    "import random"
   ]
  },
  {
   "cell_type": "code",
   "execution_count": 6,
   "metadata": {
    "pycharm": {
     "is_executing": false
    }
   },
   "outputs": [
    {
     "data": {
      "image/png": "[encoded data removed]",
      "text/plain": [
       "<Figure size 432x288 with 3 Axes>"
      ]
     },
     "metadata": {
      "needs_background": "light"
     },
     "output_type": "display_data"
    },
    {
     "data": {
      "image/png": "[encoded data removed]",
      "text/plain": [
       "<Figure size 432x288 with 3 Axes>"
      ]
     },
     "metadata": {
      "needs_background": "light"
     },
     "output_type": "display_data"
    },
    {
     "data": {
      "image/png": "[encoded data removed]",
      "text/plain": [
       "<Figure size 432x288 with 3 Axes>"
      ]
     },
     "metadata": {
      "needs_background": "light"
     },
     "output_type": "display_data"
    },
    {
     "data": {
      "image/png": "[encoded data removed]",
      "text/plain": [
       "<Figure size 432x288 with 3 Axes>"
      ]
     },
     "metadata": {
      "needs_background": "light"
     },
     "output_type": "display_data"
    }
   ],
   "source": [
    "for _ in range(4):\n",
    "    plt.subplot(1, 3, 1)\n",
    "    plt.title(\"Input Image\")\n",
    "    test_case = x_test[random.randrange(x_test.shape[0])]\n",
    "    test_case_img = np.reshape(test_case, (1, input_x_dim, input_y_dim))[0] * 255.0\n",
    "    plt.imshow(test_case_img, cmap='Greys')\n",
    "\n",
    "    plt.subplot(1, 3, 2)\n",
    "    plt.title(\"Hidden Representation\")\n",
    "    encoded_dist = model.encode(np.array([test_case]))\n",
    "    encoded = encoded_dist.sample()\n",
    "    # The reshape command makes the 16-long hidden code by 4x4\n",
    "    # so we can see it alongside the input and output\n",
    "    encoded_img = np.reshape(tf.nn.sigmoid(encoded), (1, 4, 4))[0] * 255.0\n",
    "    plt.imshow(encoded_img, cmap='Greys')\n",
    "\n",
    "    plt.subplot(1, 3, 3)\n",
    "    plt.title(\"Output Image\")\n",
    "    decoded = model.decode(np.array([encoded]))\n",
    "    decoded_img = np.reshape(decoded, (1, input_x_dim, input_y_dim))[0] * 255.0\n",
    "    plt.imshow(decoded_img, cmap='Greys')\n",
    "\n",
    "    plt.show()"
   ]
  },
  {
   "cell_type": "code",
   "execution_count": 7,
   "metadata": {
    "pycharm": {
     "is_executing": false
    }
   },
   "outputs": [
    {
     "data": {
      "image/png": "[encoded data removed]",
      "text/plain": [
       "<Figure size 432x288 with 2 Axes>"
      ]
     },
     "metadata": {
      "needs_background": "light"
     },
     "output_type": "display_data"
    },
    {
     "data": {
      "image/png": "[encoded data removed]",
      "text/plain": [
       "<Figure size 432x288 with 2 Axes>"
      ]
     },
     "metadata": {
      "needs_background": "light"
     },
     "output_type": "display_data"
    },
    {
     "data": {
      "image/png": "[encoded data removed]",
      "text/plain": [
       "<Figure size 432x288 with 2 Axes>"
      ]
     },
     "metadata": {
      "needs_background": "light"
     },
     "output_type": "display_data"
    },
    {
     "data": {
      "image/png": "[encoded data removed]",
      "text/plain": [
       "<Figure size 432x288 with 2 Axes>"
      ]
     },
     "metadata": {
      "needs_background": "light"
     },
     "output_type": "display_data"
    }
   ],
   "source": [
    "for _ in range(4):\n",
    "    plt.subplot(1, 2, 1)\n",
    "    plt.title(\"Hidden Representation (Random Normal)\")\n",
    "    random_encoded = tf.random.normal((1, 16))\n",
    "    random_encoded_img = np.reshape(tf.nn.sigmoid(random_encoded), (1, 4, 4))[0] * 255.0\n",
    "    plt.imshow(random_encoded_img, cmap='Greys')\n",
    "\n",
    "    plt.subplot(1, 2, 2)\n",
    "    plt.title(\"Output Image\")\n",
    "    random_decoded = model.decode(np.array([random_encoded]))\n",
    "    random_decoded_img = np.reshape(random_decoded, (1, input_x_dim, input_y_dim))[0] * 255.0\n",
    "    plt.imshow(random_decoded_img, cmap='Greys')\n",
    "\n",
    "    plt.show()"
   ]
  },
  {
   "cell_type": "code",
   "execution_count": 8,
   "metadata": {
    "pycharm": {
     "is_executing": false
    }
   },
   "outputs": [
    {
     "data": {
      "image/png": "[encoded data removed]",
      "text/plain": [
       "<Figure size 432x288 with 3 Axes>"
      ]
     },
     "metadata": {
      "needs_background": "light"
     },
     "output_type": "display_data"
    }
   ],
   "source": [
    "plt.subplot(1, 3, 1)\n",
    "plt.title(\"Input Image\")\n",
    "test_case_1 = x_test[random.randrange(x_test.shape[0])]\n",
    "test_case_img_1 = np.reshape(test_case_1, (1, input_x_dim, input_y_dim))[0] * 255.0\n",
    "plt.imshow(test_case_img_1, cmap='Greys')\n",
    "\n",
    "plt.subplot(1, 3, 2)\n",
    "plt.title(\"Hidden Representation\")\n",
    "encoded_dist_1 = model.encode(np.array([test_case_1]))\n",
    "encoded_1 = encoded_dist_1.sample()\n",
    "# The reshape command makes the 16-long hidden code by 4x4\n",
    "# so we can see it alongside the input and output\n",
    "encoded_img_1 = tf.reshape(tf.nn.sigmoid(encoded_1), (1, 4, 4))[0] * 255.0\n",
    "plt.imshow(encoded_img_1, cmap='Greys')\n",
    "\n",
    "plt.subplot(1, 3, 3)\n",
    "plt.title(\"Output Image\")\n",
    "decoded_1 = model.decode(np.array([encoded_1]))\n",
    "decoded_img_1 = tf.reshape(decoded_1, (1, input_x_dim, input_y_dim))[0] * 255.0\n",
    "plt.imshow(decoded_img_1, cmap='Greys')\n",
    "\n",
    "plt.show()"
   ]
  },
  {
   "cell_type": "code",
   "execution_count": 9,
   "metadata": {
    "pycharm": {
     "is_executing": false
    }
   },
   "outputs": [
    {
     "data": {
      "image/png": "[encoded data removed]",
      "text/plain": [
       "<Figure size 432x288 with 3 Axes>"
      ]
     },
     "metadata": {
      "needs_background": "light"
     },
     "output_type": "display_data"
    }
   ],
   "source": [
    "plt.subplot(1, 3, 1)\n",
    "plt.title(\"Input Image\")\n",
    "test_case_2 = x_test[random.randrange(x_test.shape[0])]\n",
    "test_case_img_2 = np.reshape(test_case_2, (1, input_x_dim, input_y_dim))[0] * 255.0\n",
    "plt.imshow(test_case_img_2, cmap='Greys')\n",
    "\n",
    "plt.subplot(1, 3, 2)\n",
    "plt.title(\"Hidden Representation\")\n",
    "encoded_dist_2 = model.encode(np.array([test_case_2]))\n",
    "encoded_2 = encoded_dist_2.sample()\n",
    "# The reshape command makes the 16-long hidden code by 4x4\n",
    "# so we can see it alongside the input and output\n",
    "encoded_img_2 = np.reshape(tf.nn.sigmoid(encoded_2), (1, 4, 4))[0] * 255.0\n",
    "plt.imshow(encoded_img_2, cmap='Greys')\n",
    "\n",
    "plt.subplot(1, 3, 3)\n",
    "plt.title(\"Output Image\")\n",
    "decoded_2 = model.decode(np.array([encoded_2]))\n",
    "decoded_img_2 = np.reshape(decoded_2, (1, input_x_dim, input_y_dim))[0] * 255.0\n",
    "plt.imshow(decoded_img_2, cmap='Greys')\n",
    "\n",
    "plt.show()"
   ]
  },
  {
   "cell_type": "code",
   "execution_count": 10,
   "metadata": {
    "pycharm": {
     "is_executing": false
    }
   },
   "outputs": [],
   "source": [
    "new_encoded = (encoded_1 + encoded_2) / 2"
   ]
  },
  {
   "cell_type": "code",
   "execution_count": 11,
   "metadata": {
    "pycharm": {
     "is_executing": false
    }
   },
   "outputs": [
    {
     "data": {
      "text/plain": [
       "<tf.Tensor: id=10181, shape=(1, 16), dtype=float32, numpy=\n",
       "array([[-0.77880776,  0.46987912, -0.4208181 , -0.13957265,  0.0305562 ,\n",
       "         0.7437132 ,  0.716341  , -0.6299027 , -0.777841  , -1.0027814 ,\n",
       "        -0.01124266,  0.6604115 ,  0.39393452,  0.13155207, -1.0388384 ,\n",
       "        -0.01851928]], dtype=float32)>"
      ]
     },
     "execution_count": 11,
     "metadata": {},
     "output_type": "execute_result"
    }
   ],
   "source": [
    "new_encoded"
   ]
  },
  {
   "cell_type": "code",
   "execution_count": 12,
   "metadata": {
    "pycharm": {
     "is_executing": false
    }
   },
   "outputs": [
    {
     "data": {
      "image/png": "[encoded data removed]",
      "text/plain": [
       "<Figure size 432x288 with 2 Axes>"
      ]
     },
     "metadata": {
      "needs_background": "light"
     },
     "output_type": "display_data"
    }
   ],
   "source": [
    "plt.subplot(1, 2, 1)\n",
    "plt.title(\"Hidden Representation\")\n",
    "new_encoded_img = np.reshape(tf.nn.sigmoid(new_encoded), (1, 4, 4))[0] * 255.0\n",
    "plt.imshow(new_encoded_img, cmap='Greys')\n",
    "\n",
    "plt.subplot(1, 2, 2)\n",
    "plt.title(\"Output Image\")\n",
    "new_decoded = model.decode(np.array([new_encoded]))\n",
    "new_decoded_img = np.reshape(new_decoded, (1, input_x_dim, input_y_dim))[0] * 255.0\n",
    "plt.imshow(new_decoded_img, cmap='Greys')\n",
    "\n",
    "plt.show()"
   ]
  },
  {
   "cell_type": "code",
   "execution_count": 13,
   "metadata": {
    "pycharm": {
     "is_executing": false
    }
   },
   "outputs": [
    {
     "data": {
      "text/plain": [
       "<tf.Tensor: id=9886, shape=(1, 16), dtype=float32, numpy=\n",
       "array([[-0.00659342,  0.93281424,  0.79991984, -0.55459803,  0.9254121 ,\n",
       "         1.5614737 ,  1.2600373 ,  0.133825  , -1.2182081 , -0.3011067 ,\n",
       "         0.8667071 , -0.5454894 ,  1.0608168 ,  0.4196623 , -0.5933043 ,\n",
       "        -1.2517154 ]], dtype=float32)>"
      ]
     },
     "execution_count": 13,
     "metadata": {},
     "output_type": "execute_result"
    }
   ],
   "source": [
    "encoded_1"
   ]
  },
  {
   "cell_type": "code",
   "execution_count": 14,
   "metadata": {},
   "outputs": [],
   "source": [
    "test_set_encoded = model.encode(x_test)"
   ]
  },
  {
   "cell_type": "code",
   "execution_count": 15,
   "metadata": {},
   "outputs": [
    {
     "data": {
      "text/plain": [
       "<tfp.distributions.Normal 'Normal' batch_shape=[10000, 16] event_shape=[] dtype=float32>"
      ]
     },
     "execution_count": 15,
     "metadata": {},
     "output_type": "execute_result"
    }
   ],
   "source": [
    "test_set_encoded"
   ]
  },
  {
   "cell_type": "code",
   "execution_count": 16,
   "metadata": {},
   "outputs": [
    {
     "data": {
      "text/plain": [
       "<tfp.distributions.Normal 'Normal' batch_shape=[10000] event_shape=[] dtype=float32>"
      ]
     },
     "execution_count": 16,
     "metadata": {},
     "output_type": "execute_result"
    }
   ],
   "source": [
    "test_set_encoded[:, 0]"
   ]
  },
  {
   "cell_type": "code",
   "execution_count": 17,
   "metadata": {},
   "outputs": [
    {
     "data": {
      "text/plain": [
       "<tf.Tensor: id=10501, shape=(), dtype=float32, numpy=0.009696414>"
      ]
     },
     "execution_count": 17,
     "metadata": {},
     "output_type": "execute_result"
    }
   ],
   "source": [
    "tf.reduce_mean(test_set_encoded[:, 3].mean())"
   ]
  },
  {
   "cell_type": "code",
   "execution_count": 18,
   "metadata": {},
   "outputs": [],
   "source": [
    "test_set_encoded_sampled = test_set_encoded.sample()"
   ]
  },
  {
   "cell_type": "code",
   "execution_count": 19,
   "metadata": {},
   "outputs": [
    {
     "data": {
      "text/plain": [
       "<tf.Tensor: id=10530, shape=(), dtype=float32, numpy=-0.014848867>"
      ]
     },
     "execution_count": 19,
     "metadata": {},
     "output_type": "execute_result"
    }
   ],
   "source": [
    "tf.reduce_mean(test_set_encoded_sampled[:, 7])"
   ]
  },
  {
   "cell_type": "code",
   "execution_count": 20,
   "metadata": {},
   "outputs": [],
   "source": [
    "import tensorflow_probability as tfp\n",
    "emp = tfp.distributions.Empirical(tf.transpose(test_set_encoded_sampled))"
   ]
  },
  {
   "cell_type": "code",
   "execution_count": 21,
   "metadata": {},
   "outputs": [
    {
     "data": {
      "text/plain": [
       "<tf.Tensor: id=10562, shape=(), dtype=float32, numpy=0.0010315615>"
      ]
     },
     "execution_count": 21,
     "metadata": {},
     "output_type": "execute_result"
    }
   ],
   "source": [
    "tf.reduce_mean(tfp.distributions.kl_divergence(\n",
    "                tfp.distributions.Normal(emp.mean(), emp.stddev()),\n",
    "                tfp.distributions.Normal(0.0, 1.0)\n",
    "            ))"
   ]
  },
  {
   "cell_type": "code",
   "execution_count": 22,
   "metadata": {},
   "outputs": [],
   "source": [
    "norm = tf.random.normal(test_set_encoded_sampled.shape, 0.0, 1.0)"
   ]
  },
  {
   "cell_type": "code",
   "execution_count": 23,
   "metadata": {},
   "outputs": [
    {
     "data": {
      "text/plain": [
       "<tf.Tensor: id=10568, shape=(10000, 16), dtype=float32, numpy=\n",
       "array([[ 0.22566509,  1.5256641 ,  1.6487263 , ..., -1.0607611 ,\n",
       "         0.49171194, -0.73560894],\n",
       "       [ 0.4361288 ,  0.40300477, -2.3032756 , ..., -0.32339516,\n",
       "         0.01753691,  0.03437582],\n",
       "       [-0.57567316,  1.3092613 ,  1.4166393 , ..., -1.6512414 ,\n",
       "         0.87773347, -0.0243188 ],\n",
       "       ...,\n",
       "       [-0.37705088, -1.1263314 , -0.5717902 , ...,  0.7040304 ,\n",
       "        -0.69816905,  0.9465678 ],\n",
       "       [-0.2993711 ,  0.31037772,  0.57034284, ...,  0.64322364,\n",
       "        -0.6820338 , -1.028377  ],\n",
       "       [-0.22596107, -1.2117938 , -1.400221  , ...,  0.38785586,\n",
       "         0.6519465 ,  0.4166853 ]], dtype=float32)>"
      ]
     },
     "execution_count": 23,
     "metadata": {},
     "output_type": "execute_result"
    }
   ],
   "source": [
    "norm"
   ]
  },
  {
   "cell_type": "code",
   "execution_count": 24,
   "metadata": {},
   "outputs": [],
   "source": [
    "emp_norm = tfp.distributions.Empirical(tf.transpose(norm))"
   ]
  },
  {
   "cell_type": "code",
   "execution_count": 25,
   "metadata": {},
   "outputs": [
    {
     "data": {
      "text/plain": [
       "<tfp.distributions.Empirical 'Empirical_Empirical' batch_shape=[16] event_shape=[] dtype=float32>"
      ]
     },
     "execution_count": 25,
     "metadata": {},
     "output_type": "execute_result"
    }
   ],
   "source": [
    "emp_norm"
   ]
  },
  {
   "cell_type": "code",
   "execution_count": 26,
   "metadata": {},
   "outputs": [
    {
     "data": {
      "text/plain": [
       "<tfp.distributions.Empirical 'Empirical_Empirical' batch_shape=[16] event_shape=[] dtype=float32>"
      ]
     },
     "execution_count": 26,
     "metadata": {},
     "output_type": "execute_result"
    }
   ],
   "source": [
    "emp"
   ]
  },
  {
   "cell_type": "code",
   "execution_count": 27,
   "metadata": {},
   "outputs": [
    {
     "data": {
      "text/plain": [
       "<tf.Tensor: id=10600, shape=(), dtype=float32, numpy=0.0011516957>"
      ]
     },
     "execution_count": 27,
     "metadata": {},
     "output_type": "execute_result"
    }
   ],
   "source": [
    "tf.reduce_sum(tfp.distributions.kl_divergence(\n",
    "                tfp.distributions.Normal(emp_norm.mean(), emp_norm.stddev()),\n",
    "                tfp.distributions.Normal(0.0, 1.0)\n",
    "            ))"
   ]
  },
  {
   "cell_type": "code",
   "execution_count": null,
   "metadata": {},
   "outputs": [],
   "source": []
  }
 ],
 "metadata": {
  "kernelspec": {
   "display_name": "Python 3",
   "language": "python",
   "name": "python3"
  },
  "language_info": {
   "codemirror_mode": {
    "name": "ipython",
    "version": 3
   },
   "file_extension": ".py",
   "mimetype": "text/x-python",
   "name": "python",
   "nbconvert_exporter": "python",
   "pygments_lexer": "ipython3",
   "version": "3.7.6"
  },
  "pycharm": {
   "stem_cell": {
    "cell_type": "raw",
    "metadata": {
     "collapsed": false
    },
    "source": []
   }
  }
 },
 "nbformat": 4,
 "nbformat_minor": 1
}
